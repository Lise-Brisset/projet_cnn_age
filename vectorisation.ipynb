{
 "cells": [
  {
   "cell_type": "markdown",
   "metadata": {},
   "source": [
    "# Vectorisation \n",
    "## X-vectors\n",
    "\n",
    "pip install speechbrain"
   ]
  },
  {
   "cell_type": "code",
   "execution_count": 41,
   "metadata": {},
   "outputs": [],
   "source": [
    "# librairies \n",
    "import glob \n",
    "import speechbrain as sb\n",
    "import pandas as pd\n",
    "import torch\n",
    "import os\n",
    "import torchaudio\n",
    "from speechbrain.inference.speaker import EncoderClassifier\n"
   ]
  },
  {
   "cell_type": "code",
   "execution_count": 20,
   "metadata": {},
   "outputs": [
    {
     "name": "stdout",
     "output_type": "stream",
     "text": [
      "['./data/ESLO2_ENT_1001/ESLO2_ENT_1001_0.wav', './data/ESLO2_ENT_1001/ESLO2_ENT_1001_2.wav', './data/ESLO2_ENT_1001/ESLO2_ENT_1001_1.wav']\n"
     ]
    }
   ],
   "source": [
    "# Ouverture fichiers\n",
    "\n",
    "chemin_base = \"./data\" # VERSION GIT \n",
    "\n",
    "list_fichier = glob.glob(f\"{chemin_base}/ESLO2_*/*.wav\")\n",
    "print(list_fichier)\n",
    "\n",
    "metadata_fichier = pd.read_csv(\"./data/metadonnees_ESLO2_ENT_ENTJEUN.csv\")"
   ]
  },
  {
   "cell_type": "code",
   "execution_count": 33,
   "metadata": {},
   "outputs": [],
   "source": [
    "# rajout classses d'age\n",
    "def class_age(age):\n",
    "\tif age == 'vieux' or int(age) > 60: \n",
    "\t\treturn \"vieux\"\n",
    "\telif int(age) < 30:\n",
    "\t\treturn \"jeune\"\n",
    "\telse:\n",
    "\t\treturn \"mid\"\n",
    "\t\n",
    "metadata_fichier['classe_age'] = metadata_fichier['age'].apply(class_age)"
   ]
  },
  {
   "cell_type": "code",
   "execution_count": 30,
   "metadata": {},
   "outputs": [
    {
     "name": "stderr",
     "output_type": "stream",
     "text": [
      "INFO:speechbrain.utils.fetching:Fetch hyperparams.yaml: Fetching from HuggingFace Hub 'speechbrain/spkrec-xvect-voxceleb' if not cached\n",
      "INFO:speechbrain.utils.fetching:Fetch custom.py: Fetching from HuggingFace Hub 'speechbrain/spkrec-xvect-voxceleb' if not cached\n",
      "INFO:speechbrain.utils.fetching:Fetch embedding_model.ckpt: Fetching from HuggingFace Hub 'speechbrain/spkrec-xvect-voxceleb' if not cached\n",
      "INFO:speechbrain.utils.fetching:Fetch mean_var_norm_emb.ckpt: Fetching from HuggingFace Hub 'speechbrain/spkrec-xvect-voxceleb' if not cached\n",
      "INFO:speechbrain.utils.fetching:Fetch classifier.ckpt: Fetching from HuggingFace Hub 'speechbrain/spkrec-xvect-voxceleb' if not cached\n",
      "INFO:speechbrain.utils.fetching:Fetch label_encoder.txt: Fetching from HuggingFace Hub 'speechbrain/spkrec-xvect-voxceleb' if not cached\n",
      "INFO:speechbrain.utils.parameter_transfer:Loading pretrained files for: embedding_model, mean_var_norm_emb, classifier, label_encoder\n",
      "/home/tacitus/Documents/M2_TAL/ML/.machinelearning/lib/python3.11/site-packages/speechbrain/utils/checkpoints.py:200: FutureWarning: You are using `torch.load` with `weights_only=False` (the current default value), which uses the default pickle module implicitly. It is possible to construct malicious pickle data which will execute arbitrary code during unpickling (See https://github.com/pytorch/pytorch/blob/main/SECURITY.md#untrusted-models for more details). In a future release, the default value for `weights_only` will be flipped to `True`. This limits the functions that could be executed during unpickling. Arbitrary objects will no longer be allowed to be loaded via this mode unless they are explicitly allowlisted by the user via `torch.serialization.add_safe_globals`. We recommend you start setting `weights_only=True` for any use case where you don't have full control of the loaded file. Please open an issue on GitHub for any issues related to this experimental feature.\n",
      "  state_dict = torch.load(path, map_location=device)\n",
      "/home/tacitus/Documents/M2_TAL/ML/.machinelearning/lib/python3.11/site-packages/speechbrain/processing/features.py:1311: FutureWarning: You are using `torch.load` with `weights_only=False` (the current default value), which uses the default pickle module implicitly. It is possible to construct malicious pickle data which will execute arbitrary code during unpickling (See https://github.com/pytorch/pytorch/blob/main/SECURITY.md#untrusted-models for more details). In a future release, the default value for `weights_only` will be flipped to `True`. This limits the functions that could be executed during unpickling. Arbitrary objects will no longer be allowed to be loaded via this mode unless they are explicitly allowlisted by the user via `torch.serialization.add_safe_globals`. We recommend you start setting `weights_only=True` for any use case where you don't have full control of the loaded file. Please open an issue on GitHub for any issues related to this experimental feature.\n",
      "  stats = torch.load(path, map_location=device)\n"
     ]
    }
   ],
   "source": [
    "# vectorisation \n",
    "classifier = EncoderClassifier.from_hparams(source=\"speechbrain/spkrec-xvect-voxceleb\", savedir=\"pretrained_models/spkrec-xvect-voxceleb\")\n",
    "\n",
    "def vectorisation(fichier):\n",
    "\tsignal, fs = torchaudio.load(fichier)\n",
    "\tembeddings = classifier.encode_batch(signal)\n",
    "\treturn embeddings\n"
   ]
  },
  {
   "cell_type": "code",
   "execution_count": 42,
   "metadata": {},
   "outputs": [],
   "source": [
    "# enregistrement des vecteurs dans leur bon directory (selon classe d'age et sexe) \n",
    "# VERSION GIT \n",
    "\n",
    "for fichier in list_fichier: \n",
    "\tembeddings = vectorisation(fichier)\n",
    "\tif fichier.split(\"/\")[-2] in metadata_fichier['directory'].values:\n",
    "\t\tage = metadata_fichier[metadata_fichier['directory'] == fichier.split(\"/\")[-2]]['classe_age'].values[0]\n",
    "\t\tsexe = metadata_fichier[metadata_fichier['directory'] == fichier.split(\"/\")[-2]]['sexe'].values[0]\n",
    "\tif not os.path.exists(f\"./vectors/{sexe}/{age}/{fichier.split('/')[-2]}\"):\n",
    "\t\tos.makedirs(f\"./vectors/{sexe}/{age}/{fichier.split('/')[-2]}\")\n",
    "\tchemin = f\"./vectors/{sexe}/{age}/{fichier.split('/')[-2]}/{fichier.split('/')[-1].replace('.wav', '.pt')}\"\n",
    "\t\n",
    "\ttorch.save(embeddings, chemin)\n"
   ]
  },
  {
   "cell_type": "code",
   "execution_count": null,
   "metadata": {},
   "outputs": [],
   "source": [
    "# enregistrement des vecteurs dans leur bon directory (selon classe d'age et sexe) \n",
    "# VERSION uniquement HOMME sur GIT  \n",
    "\n",
    "for fichier in list_fichier: \n",
    "\tembeddings = vectorisation(fichier)\n",
    "\tif fichier.split(\"/\")[-2] in metadata_fichier['directory'].values:\n",
    "\t\tage = metadata_fichier[metadata_fichier['directory'] == fichier.split(\"/\")[-2]]['classe_age'].values[0]\n",
    "\t\tsexe = metadata_fichier[metadata_fichier['directory'] == fichier.split(\"/\")[-2]]['sexe'].values[0]\n",
    "\tif sexe == \"homme\":\n",
    "\t\tif not os.path.exists(f\"./vectors/{sexe}/{age}/{fichier.split('/')[-2]}\"):\n",
    "\t\t\tos.makedirs(f\"./vectors/{sexe}/{age}/{fichier.split('/')[-2]}\")\n",
    "\t\tchemin = f\"./vectors/{sexe}/{age}/{fichier.split('/')[-2]}/{fichier.split('/')[-1].replace('.wav', '.pt')}\"\n",
    "\t\t\n",
    "\t\ttorch.save(embeddings, chemin)\n",
    "\telse: \n",
    "\t\tcontinue\n"
   ]
  },
  {
   "cell_type": "code",
   "execution_count": null,
   "metadata": {},
   "outputs": [],
   "source": [
    "# enregistrement des vecteurs dans leur bon directory (selon classe d'age et sexe) \n",
    "# VERSION DISQUE DUR  \n",
    "\n",
    "base_disque = \"\"\n",
    "\n",
    "for fichier in list_fichier: \n",
    "\tembeddings = vectorisation(fichier)\n",
    "\tif fichier.split(\"/\")[-2] in metadata_fichier['directory'].values:\n",
    "\t\tage = metadata_fichier[metadata_fichier['directory'] == fichier.split(\"/\")[-2]]['classe_age'].values[0]\n",
    "\t\tsexe = metadata_fichier[metadata_fichier['directory'] == fichier.split(\"/\")[-2]]['sexe'].values[0]\n",
    "\tif not os.path.exists(f\".{base_disque}/vectors/{sexe}/{age}/{fichier.split('/')[-2]}\"):\n",
    "\t\tos.makedirs(f\".{base_disque}/vectors/{sexe}/{age}/{fichier.split('/')[-2]}\")\n",
    "\tchemin = f\".{base_disque}/vectors/{sexe}/{age}/{fichier.split('/')[-2]}/{fichier.split('/')[-1].replace('.wav', '.pt')}\"\n",
    "\t\n",
    "\ttorch.save(embeddings, chemin)\n"
   ]
  }
 ],
 "metadata": {
  "kernelspec": {
   "display_name": ".machinelearning",
   "language": "python",
   "name": "python3"
  },
  "language_info": {
   "codemirror_mode": {
    "name": "ipython",
    "version": 3
   },
   "file_extension": ".py",
   "mimetype": "text/x-python",
   "name": "python",
   "nbconvert_exporter": "python",
   "pygments_lexer": "ipython3",
   "version": "3.11.6"
  }
 },
 "nbformat": 4,
 "nbformat_minor": 2
}
