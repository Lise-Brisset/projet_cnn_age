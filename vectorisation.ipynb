{
 "cells": [
  {
   "cell_type": "markdown",
   "metadata": {},
   "source": [
    "# Vectorisation \n",
    "## X-vectors\n",
    "\n",
    "pip install speechbrain"
   ]
  },
  {
   "cell_type": "code",
   "execution_count": 1,
   "metadata": {},
   "outputs": [
    {
     "name": "stderr",
     "output_type": "stream",
     "text": [
      "/home/lise/Documents/TAL_M2S3/CNN/venv_CNN/lib/python3.12/site-packages/tqdm/auto.py:21: TqdmWarning: IProgress not found. Please update jupyter and ipywidgets. See https://ipywidgets.readthedocs.io/en/stable/user_install.html\n",
      "  from .autonotebook import tqdm as notebook_tqdm\n",
      "INFO:speechbrain.utils.quirks:Applied quirks (see `speechbrain.utils.quirks`): [disable_jit_profiling, allow_tf32]\n",
      "INFO:speechbrain.utils.quirks:Excluded quirks specified by the `SB_DISABLE_QUIRKS` environment (comma-separated list): []\n"
     ]
    }
   ],
   "source": [
    "# librairies \n",
    "import glob \n",
    "import speechbrain as sb\n",
    "import pandas as pd\n",
    "import torch\n",
    "import os\n",
    "import torchaudio\n",
    "from speechbrain.inference.speaker import EncoderClassifier\n",
    "import time\n",
    "import logging"
   ]
  },
  {
   "cell_type": "code",
   "execution_count": 2,
   "metadata": {},
   "outputs": [],
   "source": [
    "# Démarrer le timer\n",
    "start_time = time.time()"
   ]
  },
  {
   "cell_type": "code",
   "execution_count": 5,
   "metadata": {},
   "outputs": [
    {
     "name": "stdout",
     "output_type": "stream",
     "text": [
      "['./data/ESLO2_ENT_1001/ESLO2_ENT_1001_0_16000Hz.wav', './data/ESLO2_ENT_1001/ESLO2_ENT_1001_1_16000Hz.wav', './data/ESLO2_ENT_1001/ESLO2_ENT_1001_2_16000Hz.wav']\n"
     ]
    }
   ],
   "source": [
    "# Ouverture fichiers\n",
    "\n",
    "chemin_base = \"/media/lise/SMARTDISK/DufourOrane_Memoire-M2TAL/Corpus4Sec/ESLO_4Sec\" \n",
    "\n",
    "list_fichier = glob.glob(f\"{chemin_base}/ESLO2_*/*_16000Hz.wav\")\n",
    "print(list_fichier[:10])\n",
    "\n",
    "# On récupère le csv contenant les infos sur les locuteurs : \n",
    "metadata_fichier = pd.read_csv(\"./data/metadonnees_ESLO2_ENT_ENTJEUN.csv\")"
   ]
  },
  {
   "cell_type": "code",
   "execution_count": 6,
   "metadata": {},
   "outputs": [
    {
     "name": "stdout",
     "output_type": "stream",
     "text": [
      "Nombre de fichiers audios : 3\n"
     ]
    }
   ],
   "source": [
    "print(\"Nombre de fichiers audios :\", len(list_fichier))"
   ]
  },
  {
   "cell_type": "code",
   "execution_count": 7,
   "metadata": {},
   "outputs": [],
   "source": [
    "# rajout classses d'age\n",
    "def class_age(age):\n",
    "\tif age == 'vieux' or int(age) > 60: \n",
    "\t\treturn \"vieux\"\n",
    "\telif int(age) < 30:\n",
    "\t\treturn \"jeune\"\n",
    "\telse:\n",
    "\t\treturn \"mid\"\n",
    "\t\n",
    "metadata_fichier['classe_age'] = metadata_fichier['age'].apply(class_age)"
   ]
  },
  {
   "cell_type": "code",
   "execution_count": 8,
   "metadata": {},
   "outputs": [
    {
     "name": "stderr",
     "output_type": "stream",
     "text": [
      "INFO:speechbrain.utils.fetching:Fetch hyperparams.yaml: Fetching from HuggingFace Hub 'speechbrain/spkrec-xvect-voxceleb' if not cached\n",
      "INFO:speechbrain.utils.fetching:Fetch custom.py: Fetching from HuggingFace Hub 'speechbrain/spkrec-xvect-voxceleb' if not cached\n",
      "/home/lise/Documents/TAL_M2S3/CNN/venv_CNN/lib/python3.12/site-packages/speechbrain/utils/autocast.py:68: FutureWarning: `torch.cuda.amp.custom_fwd(args...)` is deprecated. Please use `torch.amp.custom_fwd(args..., device_type='cuda')` instead.\n",
      "  wrapped_fwd = torch.cuda.amp.custom_fwd(fwd, cast_inputs=cast_inputs)\n",
      "INFO:speechbrain.utils.fetching:Fetch embedding_model.ckpt: Fetching from HuggingFace Hub 'speechbrain/spkrec-xvect-voxceleb' if not cached\n",
      "INFO:speechbrain.utils.fetching:Fetch mean_var_norm_emb.ckpt: Fetching from HuggingFace Hub 'speechbrain/spkrec-xvect-voxceleb' if not cached\n",
      "INFO:speechbrain.utils.fetching:Fetch classifier.ckpt: Fetching from HuggingFace Hub 'speechbrain/spkrec-xvect-voxceleb' if not cached\n",
      "INFO:speechbrain.utils.fetching:Fetch label_encoder.txt: Fetching from HuggingFace Hub 'speechbrain/spkrec-xvect-voxceleb' if not cached\n",
      "INFO:speechbrain.utils.parameter_transfer:Loading pretrained files for: embedding_model, mean_var_norm_emb, classifier, label_encoder\n",
      "/home/lise/Documents/TAL_M2S3/CNN/venv_CNN/lib/python3.12/site-packages/speechbrain/utils/checkpoints.py:200: FutureWarning: You are using `torch.load` with `weights_only=False` (the current default value), which uses the default pickle module implicitly. It is possible to construct malicious pickle data which will execute arbitrary code during unpickling (See https://github.com/pytorch/pytorch/blob/main/SECURITY.md#untrusted-models for more details). In a future release, the default value for `weights_only` will be flipped to `True`. This limits the functions that could be executed during unpickling. Arbitrary objects will no longer be allowed to be loaded via this mode unless they are explicitly allowlisted by the user via `torch.serialization.add_safe_globals`. We recommend you start setting `weights_only=True` for any use case where you don't have full control of the loaded file. Please open an issue on GitHub for any issues related to this experimental feature.\n",
      "  state_dict = torch.load(path, map_location=device)\n",
      "/home/lise/Documents/TAL_M2S3/CNN/venv_CNN/lib/python3.12/site-packages/speechbrain/processing/features.py:1311: FutureWarning: You are using `torch.load` with `weights_only=False` (the current default value), which uses the default pickle module implicitly. It is possible to construct malicious pickle data which will execute arbitrary code during unpickling (See https://github.com/pytorch/pytorch/blob/main/SECURITY.md#untrusted-models for more details). In a future release, the default value for `weights_only` will be flipped to `True`. This limits the functions that could be executed during unpickling. Arbitrary objects will no longer be allowed to be loaded via this mode unless they are explicitly allowlisted by the user via `torch.serialization.add_safe_globals`. We recommend you start setting `weights_only=True` for any use case where you don't have full control of the loaded file. Please open an issue on GitHub for any issues related to this experimental feature.\n",
      "  stats = torch.load(path, map_location=device)\n"
     ]
    }
   ],
   "source": [
    "# vectorisation \n",
    "classifier = EncoderClassifier.from_hparams(source=\"speechbrain/spkrec-xvect-voxceleb\", savedir=\"pretrained_models/spkrec-xvect-voxceleb\")\n",
    "\n",
    "def vectorisation(fichier):\n",
    "\tsignal, fs = torchaudio.load(fichier)\n",
    "\tembeddings = classifier.encode_batch(signal)\n",
    "\treturn embeddings\n"
   ]
  },
  {
   "cell_type": "markdown",
   "metadata": {},
   "source": [
    "____________________\n",
    "\n",
    "### Ne pas lancer !!"
   ]
  },
  {
   "cell_type": "code",
   "execution_count": 9,
   "metadata": {},
   "outputs": [],
   "source": [
    "# enregistrement des vecteurs dans leur bon directory (selon classe d'age et sexe) \n",
    "# VERSION GIT \n",
    "\n",
    "for fichier in list_fichier: \n",
    "\tembeddings = vectorisation(fichier)\n",
    "\tif fichier.split(\"/\")[-2] in metadata_fichier['directory'].values:\n",
    "\t\tage = metadata_fichier[metadata_fichier['directory'] == fichier.split(\"/\")[-2]]['classe_age'].values[0]\n",
    "\t\tsexe = metadata_fichier[metadata_fichier['directory'] == fichier.split(\"/\")[-2]]['sexe'].values[0]\n",
    "\tif not os.path.exists(f\"./vectors/{sexe}/{age}/{fichier.split('/')[-2]}\"):\n",
    "\t\tos.makedirs(f\"./vectors/{sexe}/{age}/{fichier.split('/')[-2]}\")\n",
    "\tchemin = f\"./vectors/{sexe}/{age}/{fichier.split('/')[-2]}/{fichier.split('/')[-1].replace('.wav', '.pt')}\"\n",
    "\t\n",
    "\ttorch.save(embeddings, chemin)\n"
   ]
  },
  {
   "cell_type": "code",
   "execution_count": null,
   "metadata": {},
   "outputs": [],
   "source": [
    "# enregistrement des vecteurs dans leur bon directory (selon classe d'age et sexe) \n",
    "# VERSION uniquement HOMME sur GIT  \n",
    "\n",
    "for fichier in list_fichier: \n",
    "\tembeddings = vectorisation(fichier)\n",
    "\tif fichier.split(\"/\")[-2] in metadata_fichier['directory'].values:\n",
    "\t\tage = metadata_fichier[metadata_fichier['directory'] == fichier.split(\"/\")[-2]]['classe_age'].values[0]\n",
    "\t\tsexe = metadata_fichier[metadata_fichier['directory'] == fichier.split(\"/\")[-2]]['sexe'].values[0]\n",
    "\tif sexe == \"homme\":\n",
    "\t\tif not os.path.exists(f\"./vectors/{sexe}/{age}/{fichier.split('/')[-2]}\"):\n",
    "\t\t\tos.makedirs(f\"./vectors/{sexe}/{age}/{fichier.split('/')[-2]}\")\n",
    "\t\tchemin = f\"./vectors/{sexe}/{age}/{fichier.split('/')[-2]}/{fichier.split('/')[-1].replace('.wav', '.pt')}\"\n",
    "\t\t\n",
    "\t\ttorch.save(embeddings, chemin)\n",
    "\telse: \n",
    "\t\tcontinue\n"
   ]
  },
  {
   "cell_type": "code",
   "execution_count": 27,
   "metadata": {},
   "outputs": [
    {
     "ename": "RuntimeError",
     "evalue": "Couldn't find appropriate backend to handle uri /media/lise/SMARTDISK/DufourOrane_Memoire-M2TAL/Corpus4Sec/ESLO_4Sec/ESLO2_DIA_1221/ESLO2_DIA_1221_0_16000Hz.wav and format None.",
     "output_type": "error",
     "traceback": [
      "\u001b[0;31m---------------------------------------------------------------------------\u001b[0m",
      "\u001b[0;31mRuntimeError\u001b[0m                              Traceback (most recent call last)",
      "Cell \u001b[0;32mIn[27], line 7\u001b[0m\n\u001b[1;32m      4\u001b[0m base_disque \u001b[38;5;241m=\u001b[39m \u001b[38;5;124m\"\u001b[39m\u001b[38;5;124m/media/lise/SMARTDISK/BrissetLise_M2TAL_age\u001b[39m\u001b[38;5;124m\"\u001b[39m\n\u001b[1;32m      6\u001b[0m \u001b[38;5;28;01mfor\u001b[39;00m fichier \u001b[38;5;129;01min\u001b[39;00m list_fichier[:\u001b[38;5;241m5\u001b[39m]: \n\u001b[0;32m----> 7\u001b[0m \tembeddings \u001b[38;5;241m=\u001b[39m \u001b[43mvectorisation\u001b[49m\u001b[43m(\u001b[49m\u001b[43mfichier\u001b[49m\u001b[43m)\u001b[49m\n\u001b[1;32m      8\u001b[0m \t\u001b[38;5;28;01mif\u001b[39;00m fichier\u001b[38;5;241m.\u001b[39msplit(\u001b[38;5;124m\"\u001b[39m\u001b[38;5;124m/\u001b[39m\u001b[38;5;124m\"\u001b[39m)[\u001b[38;5;241m-\u001b[39m\u001b[38;5;241m2\u001b[39m] \u001b[38;5;129;01min\u001b[39;00m metadata_fichier[\u001b[38;5;124m'\u001b[39m\u001b[38;5;124mdirectory\u001b[39m\u001b[38;5;124m'\u001b[39m]\u001b[38;5;241m.\u001b[39mvalues:\n\u001b[1;32m      9\u001b[0m \t\tage \u001b[38;5;241m=\u001b[39m metadata_fichier[metadata_fichier[\u001b[38;5;124m'\u001b[39m\u001b[38;5;124mdirectory\u001b[39m\u001b[38;5;124m'\u001b[39m] \u001b[38;5;241m==\u001b[39m fichier\u001b[38;5;241m.\u001b[39msplit(\u001b[38;5;124m\"\u001b[39m\u001b[38;5;124m/\u001b[39m\u001b[38;5;124m\"\u001b[39m)[\u001b[38;5;241m-\u001b[39m\u001b[38;5;241m2\u001b[39m]][\u001b[38;5;124m'\u001b[39m\u001b[38;5;124mclasse_age\u001b[39m\u001b[38;5;124m'\u001b[39m]\u001b[38;5;241m.\u001b[39mvalues[\u001b[38;5;241m0\u001b[39m]\n",
      "Cell \u001b[0;32mIn[20], line 5\u001b[0m, in \u001b[0;36mvectorisation\u001b[0;34m(fichier)\u001b[0m\n\u001b[1;32m      4\u001b[0m \u001b[38;5;28;01mdef\u001b[39;00m\u001b[38;5;250m \u001b[39m\u001b[38;5;21mvectorisation\u001b[39m(fichier):\n\u001b[0;32m----> 5\u001b[0m \tsignal, fs \u001b[38;5;241m=\u001b[39m \u001b[43mtorchaudio\u001b[49m\u001b[38;5;241;43m.\u001b[39;49m\u001b[43mload\u001b[49m\u001b[43m(\u001b[49m\u001b[43mfichier\u001b[49m\u001b[43m)\u001b[49m\n\u001b[1;32m      6\u001b[0m \tembeddings \u001b[38;5;241m=\u001b[39m classifier\u001b[38;5;241m.\u001b[39mencode_batch(signal)\n\u001b[1;32m      7\u001b[0m \t\u001b[38;5;28;01mreturn\u001b[39;00m embeddings\n",
      "File \u001b[0;32m~/Documents/TAL_M2S3/CNN/venv_CNN/lib/python3.12/site-packages/torchaudio/_backend/utils.py:204\u001b[0m, in \u001b[0;36mget_load_func.<locals>.load\u001b[0;34m(uri, frame_offset, num_frames, normalize, channels_first, format, buffer_size, backend)\u001b[0m\n\u001b[1;32m    118\u001b[0m \u001b[38;5;28;01mdef\u001b[39;00m\u001b[38;5;250m \u001b[39m\u001b[38;5;21mload\u001b[39m(\n\u001b[1;32m    119\u001b[0m     uri: Union[BinaryIO, \u001b[38;5;28mstr\u001b[39m, os\u001b[38;5;241m.\u001b[39mPathLike],\n\u001b[1;32m    120\u001b[0m     frame_offset: \u001b[38;5;28mint\u001b[39m \u001b[38;5;241m=\u001b[39m \u001b[38;5;241m0\u001b[39m,\n\u001b[0;32m   (...)\u001b[0m\n\u001b[1;32m    126\u001b[0m     backend: Optional[\u001b[38;5;28mstr\u001b[39m] \u001b[38;5;241m=\u001b[39m \u001b[38;5;28;01mNone\u001b[39;00m,\n\u001b[1;32m    127\u001b[0m ) \u001b[38;5;241m-\u001b[39m\u001b[38;5;241m>\u001b[39m Tuple[torch\u001b[38;5;241m.\u001b[39mTensor, \u001b[38;5;28mint\u001b[39m]:\n\u001b[1;32m    128\u001b[0m \u001b[38;5;250m    \u001b[39m\u001b[38;5;124;03m\"\"\"Load audio data from source.\u001b[39;00m\n\u001b[1;32m    129\u001b[0m \n\u001b[1;32m    130\u001b[0m \u001b[38;5;124;03m    By default (``normalize=True``, ``channels_first=True``), this function returns Tensor with\u001b[39;00m\n\u001b[0;32m   (...)\u001b[0m\n\u001b[1;32m    202\u001b[0m \u001b[38;5;124;03m            `[channel, time]` else `[time, channel]`.\u001b[39;00m\n\u001b[1;32m    203\u001b[0m \u001b[38;5;124;03m    \"\"\"\u001b[39;00m\n\u001b[0;32m--> 204\u001b[0m     backend \u001b[38;5;241m=\u001b[39m \u001b[43mdispatcher\u001b[49m\u001b[43m(\u001b[49m\u001b[43muri\u001b[49m\u001b[43m,\u001b[49m\u001b[43m \u001b[49m\u001b[38;5;28;43mformat\u001b[39;49m\u001b[43m,\u001b[49m\u001b[43m \u001b[49m\u001b[43mbackend\u001b[49m\u001b[43m)\u001b[49m\n\u001b[1;32m    205\u001b[0m     \u001b[38;5;28;01mreturn\u001b[39;00m backend\u001b[38;5;241m.\u001b[39mload(uri, frame_offset, num_frames, normalize, channels_first, \u001b[38;5;28mformat\u001b[39m, buffer_size)\n",
      "File \u001b[0;32m~/Documents/TAL_M2S3/CNN/venv_CNN/lib/python3.12/site-packages/torchaudio/_backend/utils.py:116\u001b[0m, in \u001b[0;36mget_load_func.<locals>.dispatcher\u001b[0;34m(uri, format, backend_name)\u001b[0m\n\u001b[1;32m    114\u001b[0m     \u001b[38;5;28;01mif\u001b[39;00m backend\u001b[38;5;241m.\u001b[39mcan_decode(uri, \u001b[38;5;28mformat\u001b[39m):\n\u001b[1;32m    115\u001b[0m         \u001b[38;5;28;01mreturn\u001b[39;00m backend\n\u001b[0;32m--> 116\u001b[0m \u001b[38;5;28;01mraise\u001b[39;00m \u001b[38;5;167;01mRuntimeError\u001b[39;00m(\u001b[38;5;124mf\u001b[39m\u001b[38;5;124m\"\u001b[39m\u001b[38;5;124mCouldn\u001b[39m\u001b[38;5;124m'\u001b[39m\u001b[38;5;124mt find appropriate backend to handle uri \u001b[39m\u001b[38;5;132;01m{\u001b[39;00muri\u001b[38;5;132;01m}\u001b[39;00m\u001b[38;5;124m and format \u001b[39m\u001b[38;5;132;01m{\u001b[39;00m\u001b[38;5;28mformat\u001b[39m\u001b[38;5;132;01m}\u001b[39;00m\u001b[38;5;124m.\u001b[39m\u001b[38;5;124m\"\u001b[39m)\n",
      "\u001b[0;31mRuntimeError\u001b[0m: Couldn't find appropriate backend to handle uri /media/lise/SMARTDISK/DufourOrane_Memoire-M2TAL/Corpus4Sec/ESLO_4Sec/ESLO2_DIA_1221/ESLO2_DIA_1221_0_16000Hz.wav and format None."
     ]
    }
   ],
   "source": [
    "# enregistrement des vecteurs dans leur bon directory (selon classe d'age et sexe) \n",
    "# VERSION DISQUE DUR  \n",
    "\n",
    "base_disque = \"/media/lise/SMARTDISK/BrissetLise_M2TAL_age\"\n",
    "\n",
    "for fichier in list_fichier[:5]: \n",
    "\tembeddings = vectorisation(fichier)\n",
    "\tif fichier.split(\"/\")[-2] in metadata_fichier['directory'].values:\n",
    "\t\tage = metadata_fichier[metadata_fichier['directory'] == fichier.split(\"/\")[-2]]['classe_age'].values[0]\n",
    "\t\tsexe = metadata_fichier[metadata_fichier['directory'] == fichier.split(\"/\")[-2]]['sexe'].values[0]\n",
    "\tif not os.path.exists(f\".{base_disque}/vectors/{sexe}/{age}/{fichier.split('/')[-2]}\"):\n",
    "\t\tos.makedirs(f\".{base_disque}/vectors/{sexe}/{age}/{fichier.split('/')[-2]}\")\n",
    "\tchemin = f\".{base_disque}/vectors/{sexe}/{age}/{fichier.split('/')[-2]}/{fichier.split('/')[-1].replace('.wav', '.pt')}\"\n",
    "\t\n",
    "\ttorch.save(embeddings, chemin)\n",
    "\tprint(f\"Enregistrement du fichier {fichier} dans {chemin}\")"
   ]
  },
  {
   "cell_type": "markdown",
   "metadata": {},
   "source": [
    "______________\n",
    "\n",
    "### Lancer à partir d'ici :"
   ]
  },
  {
   "cell_type": "code",
   "execution_count": 21,
   "metadata": {},
   "outputs": [],
   "source": [
    "# Configuration du logging\n",
    "logging.basicConfig(filename='process.log', level=logging.INFO, \n",
    "                    format='%(asctime)s - %(levelname)s - %(message)s')"
   ]
  },
  {
   "cell_type": "code",
   "execution_count": 26,
   "metadata": {},
   "outputs": [
    {
     "name": "stderr",
     "output_type": "stream",
     "text": [
      "ERROR:root:Erreur lors du traitement du fichier /media/lise/SMARTDISK/DufourOrane_Memoire-M2TAL/Corpus4Sec/ESLO_4Sec/ESLO2_DIA_1221/ESLO2_DIA_1221_0_16000Hz.wav: Couldn't find appropriate backend to handle uri /media/lise/SMARTDISK/DufourOrane_Memoire-M2TAL/Corpus4Sec/ESLO_4Sec/ESLO2_DIA_1221/ESLO2_DIA_1221_0_16000Hz.wav and format None.\n",
      "ERROR:root:Erreur lors du traitement du fichier /media/lise/SMARTDISK/DufourOrane_Memoire-M2TAL/Corpus4Sec/ESLO_4Sec/ESLO2_DIA_1221/ESLO2_DIA_1221_1_16000Hz.wav: Couldn't find appropriate backend to handle uri /media/lise/SMARTDISK/DufourOrane_Memoire-M2TAL/Corpus4Sec/ESLO_4Sec/ESLO2_DIA_1221/ESLO2_DIA_1221_1_16000Hz.wav and format None.\n",
      "ERROR:root:Erreur lors du traitement du fichier /media/lise/SMARTDISK/DufourOrane_Memoire-M2TAL/Corpus4Sec/ESLO_4Sec/ESLO2_DIA_1221/ESLO2_DIA_1221_2_16000Hz.wav: Couldn't find appropriate backend to handle uri /media/lise/SMARTDISK/DufourOrane_Memoire-M2TAL/Corpus4Sec/ESLO_4Sec/ESLO2_DIA_1221/ESLO2_DIA_1221_2_16000Hz.wav and format None.\n",
      "ERROR:root:Erreur lors du traitement du fichier /media/lise/SMARTDISK/DufourOrane_Memoire-M2TAL/Corpus4Sec/ESLO_4Sec/ESLO2_DIA_1221/ESLO2_DIA_1221_3_16000Hz.wav: Couldn't find appropriate backend to handle uri /media/lise/SMARTDISK/DufourOrane_Memoire-M2TAL/Corpus4Sec/ESLO_4Sec/ESLO2_DIA_1221/ESLO2_DIA_1221_3_16000Hz.wav and format None.\n",
      "ERROR:root:Erreur lors du traitement du fichier /media/lise/SMARTDISK/DufourOrane_Memoire-M2TAL/Corpus4Sec/ESLO_4Sec/ESLO2_DIA_1221/ESLO2_DIA_1221_4_16000Hz.wav: Couldn't find appropriate backend to handle uri /media/lise/SMARTDISK/DufourOrane_Memoire-M2TAL/Corpus4Sec/ESLO_4Sec/ESLO2_DIA_1221/ESLO2_DIA_1221_4_16000Hz.wav and format None.\n",
      "ERROR:root:Erreur lors du traitement du fichier /media/lise/SMARTDISK/DufourOrane_Memoire-M2TAL/Corpus4Sec/ESLO_4Sec/ESLO2_DIA_1221/ESLO2_DIA_1221_5_16000Hz.wav: Couldn't find appropriate backend to handle uri /media/lise/SMARTDISK/DufourOrane_Memoire-M2TAL/Corpus4Sec/ESLO_4Sec/ESLO2_DIA_1221/ESLO2_DIA_1221_5_16000Hz.wav and format None.\n",
      "ERROR:root:Erreur lors du traitement du fichier /media/lise/SMARTDISK/DufourOrane_Memoire-M2TAL/Corpus4Sec/ESLO_4Sec/ESLO2_DIA_1221/ESLO2_DIA_1221_6_16000Hz.wav: Couldn't find appropriate backend to handle uri /media/lise/SMARTDISK/DufourOrane_Memoire-M2TAL/Corpus4Sec/ESLO_4Sec/ESLO2_DIA_1221/ESLO2_DIA_1221_6_16000Hz.wav and format None.\n",
      "ERROR:root:Erreur lors du traitement du fichier /media/lise/SMARTDISK/DufourOrane_Memoire-M2TAL/Corpus4Sec/ESLO_4Sec/ESLO2_DIA_1221/ESLO2_DIA_1221_7_16000Hz.wav: Couldn't find appropriate backend to handle uri /media/lise/SMARTDISK/DufourOrane_Memoire-M2TAL/Corpus4Sec/ESLO_4Sec/ESLO2_DIA_1221/ESLO2_DIA_1221_7_16000Hz.wav and format None.\n",
      "ERROR:root:Erreur lors du traitement du fichier /media/lise/SMARTDISK/DufourOrane_Memoire-M2TAL/Corpus4Sec/ESLO_4Sec/ESLO2_DIA_1221/ESLO2_DIA_1221_8_16000Hz.wav: Couldn't find appropriate backend to handle uri /media/lise/SMARTDISK/DufourOrane_Memoire-M2TAL/Corpus4Sec/ESLO_4Sec/ESLO2_DIA_1221/ESLO2_DIA_1221_8_16000Hz.wav and format None.\n",
      "ERROR:root:Erreur lors du traitement du fichier /media/lise/SMARTDISK/DufourOrane_Memoire-M2TAL/Corpus4Sec/ESLO_4Sec/ESLO2_DIA_1221/ESLO2_DIA_1221_9_16000Hz.wav: Couldn't find appropriate backend to handle uri /media/lise/SMARTDISK/DufourOrane_Memoire-M2TAL/Corpus4Sec/ESLO_4Sec/ESLO2_DIA_1221/ESLO2_DIA_1221_9_16000Hz.wav and format None.\n"
     ]
    },
    {
     "name": "stdout",
     "output_type": "stream",
     "text": [
      "/media/lise/SMARTDISK/DufourOrane_Memoire-M2TAL/Corpus4Sec/ESLO_4Sec/ESLO2_DIA_1221/ESLO2_DIA_1221_0_16000Hz.wav\n",
      "/media/lise/SMARTDISK/DufourOrane_Memoire-M2TAL/Corpus4Sec/ESLO_4Sec/ESLO2_DIA_1221/ESLO2_DIA_1221_1_16000Hz.wav\n",
      "/media/lise/SMARTDISK/DufourOrane_Memoire-M2TAL/Corpus4Sec/ESLO_4Sec/ESLO2_DIA_1221/ESLO2_DIA_1221_2_16000Hz.wav\n",
      "/media/lise/SMARTDISK/DufourOrane_Memoire-M2TAL/Corpus4Sec/ESLO_4Sec/ESLO2_DIA_1221/ESLO2_DIA_1221_3_16000Hz.wav\n",
      "/media/lise/SMARTDISK/DufourOrane_Memoire-M2TAL/Corpus4Sec/ESLO_4Sec/ESLO2_DIA_1221/ESLO2_DIA_1221_4_16000Hz.wav\n",
      "/media/lise/SMARTDISK/DufourOrane_Memoire-M2TAL/Corpus4Sec/ESLO_4Sec/ESLO2_DIA_1221/ESLO2_DIA_1221_5_16000Hz.wav\n",
      "/media/lise/SMARTDISK/DufourOrane_Memoire-M2TAL/Corpus4Sec/ESLO_4Sec/ESLO2_DIA_1221/ESLO2_DIA_1221_6_16000Hz.wav\n",
      "/media/lise/SMARTDISK/DufourOrane_Memoire-M2TAL/Corpus4Sec/ESLO_4Sec/ESLO2_DIA_1221/ESLO2_DIA_1221_7_16000Hz.wav\n",
      "/media/lise/SMARTDISK/DufourOrane_Memoire-M2TAL/Corpus4Sec/ESLO_4Sec/ESLO2_DIA_1221/ESLO2_DIA_1221_8_16000Hz.wav\n",
      "/media/lise/SMARTDISK/DufourOrane_Memoire-M2TAL/Corpus4Sec/ESLO_4Sec/ESLO2_DIA_1221/ESLO2_DIA_1221_9_16000Hz.wav\n",
      "Temps d'exécution du programme : 138.59267950057983 secondes\n"
     ]
    }
   ],
   "source": [
    "##### CETTE VERSION EST LA BONNE #####\n",
    "\n",
    "base_disque = \"/media/lise/SMARTDISK/BrissetLise_M2TAL_age\"\n",
    "\n",
    "for fichier in list_fichier[:10]: \n",
    "    print(fichier)\n",
    "    try:\n",
    "        embeddings = vectorisation(fichier)\n",
    "        directory_name = fichier.split(\"/\")[-2]\n",
    "\n",
    "        # Vérification de l'existence du répertoire dans les métadonnées\n",
    "        if directory_name in metadata_fichier['directory'].values:\n",
    "            age = metadata_fichier[metadata_fichier['directory'] == directory_name]['classe_age'].values[0]\n",
    "            sexe = metadata_fichier[metadata_fichier['directory'] == directory_name]['sexe'].values[0]\n",
    "            logging.info(f\"Traitement du fichier: {fichier}, Age: {age}, Sexe: {sexe}\")\n",
    "\n",
    "            # Création du répertoire si nécessaire\n",
    "            target_directory = f\".{base_disque}/xvectors_4sec/{sexe}/{age}/{directory_name}\"\n",
    "            if not os.path.exists(target_directory):\n",
    "                os.makedirs(target_directory)\n",
    "                logging.info(f\"Création du répertoire: {target_directory}\")\n",
    "\n",
    "            chemin = f\"{target_directory}/{fichier.split('/')[-1].replace('.wav', '.pt')}\"\n",
    "            \n",
    "            # Sauvegarde des embeddings\n",
    "            torch.save(embeddings, chemin)\n",
    "            logging.info(f\"Embeddings sauvegardés dans: {chemin}\")\n",
    "        else:\n",
    "            logging.warning(f\"Répertoire non trouvé dans les métadonnées: {directory_name}\")\n",
    "\n",
    "    except Exception as e:\n",
    "        logging.error(f\"Erreur lors du traitement du fichier {fichier}: {e}\")\n",
    "\n",
    "\n",
    "\n",
    "\n",
    "# Arrêter le timer\n",
    "end_time = time.time()\n",
    "\n",
    "# Calculer le temps écoulé\n",
    "elapsed_time = end_time - start_time\n",
    "print(f\"Temps d'exécution du programme : {elapsed_time} secondes\")"
   ]
  },
  {
   "cell_type": "code",
   "execution_count": null,
   "metadata": {},
   "outputs": [],
   "source": []
  }
 ],
 "metadata": {
  "kernelspec": {
   "display_name": "venv_CNN",
   "language": "python",
   "name": "python3"
  },
  "language_info": {
   "codemirror_mode": {
    "name": "ipython",
    "version": 3
   },
   "file_extension": ".py",
   "mimetype": "text/x-python",
   "name": "python",
   "nbconvert_exporter": "python",
   "pygments_lexer": "ipython3",
   "version": "3.12.3"
  }
 },
 "nbformat": 4,
 "nbformat_minor": 2
}
